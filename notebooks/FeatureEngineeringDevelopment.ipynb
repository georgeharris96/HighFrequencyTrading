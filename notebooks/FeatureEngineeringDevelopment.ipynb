{
 "cells": [
  {
   "cell_type": "markdown",
   "source": [
    "# Feature Engineering Development\n",
    "\n",
    "This notebook is used for the development of new features and transformers. Once development on a transformer is complete it will be saved as a new file in `src/prep/`"
   ],
   "metadata": {
    "collapsed": false
   }
  },
  {
   "cell_type": "markdown",
   "source": [
    "## Target variable creation\n",
    "\n",
    "Currently, the dataset has no suitable target variables, so they will have to be created. There a multiple directions this could take, however for v1 it the target will be binary, with the following rules:\n",
    "\n",
    "if: Open > Close then 1\n",
    "else: 0\n",
    "\n",
    "This column will then need to be shifted up the dataset one row.\n",
    "\n",
    "Since the datasets have less than 50k rows computing this in numpy is more efficient."
   ],
   "metadata": {
    "collapsed": false
   }
  },
  {
   "cell_type": "code",
   "execution_count": 1,
   "metadata": {
    "collapsed": true
   },
   "outputs": [],
   "source": [
    "# Import required libraries\n",
    "import pandas as pd\n",
    "import numpy as np\n",
    "\n",
    "# Importing ibm_historcial.csv to serve as test for development\n",
    "ibm = pd.read_csv('../data/ibm_historical.csv', delimiter=',')"
   ]
  },
  {
   "cell_type": "code",
   "execution_count": 2,
   "outputs": [
    {
     "data": {
      "text/plain": "                        Date       Open       High        Low      Close  \\\n0  2000-01-03 00:00:00-05:00  62.830047  64.820770  62.515725  64.820770   \n1  2000-01-04 00:00:00-05:00  63.703158  63.982558  61.956909  62.620483   \n2  2000-01-05 00:00:00-05:00  63.109447  66.916272  62.655425  64.820770   \n3  2000-01-06 00:00:00-05:00  65.938384  66.462258  63.423786  63.703186   \n4  2000-01-07 00:00:00-05:00  65.519260  65.903434  61.817214  63.423763   \n\n     Volume  Dividends  Stock Splits  \n0  10823694        0.0           0.0  \n1   8606279        0.0           0.0  \n2  13318927        0.0           0.0  \n3   8338607        0.0           0.0  \n4  12402108        0.0           0.0  ",
      "text/html": "<div>\n<style scoped>\n    .dataframe tbody tr th:only-of-type {\n        vertical-align: middle;\n    }\n\n    .dataframe tbody tr th {\n        vertical-align: top;\n    }\n\n    .dataframe thead th {\n        text-align: right;\n    }\n</style>\n<table border=\"1\" class=\"dataframe\">\n  <thead>\n    <tr style=\"text-align: right;\">\n      <th></th>\n      <th>Date</th>\n      <th>Open</th>\n      <th>High</th>\n      <th>Low</th>\n      <th>Close</th>\n      <th>Volume</th>\n      <th>Dividends</th>\n      <th>Stock Splits</th>\n    </tr>\n  </thead>\n  <tbody>\n    <tr>\n      <th>0</th>\n      <td>2000-01-03 00:00:00-05:00</td>\n      <td>62.830047</td>\n      <td>64.820770</td>\n      <td>62.515725</td>\n      <td>64.820770</td>\n      <td>10823694</td>\n      <td>0.0</td>\n      <td>0.0</td>\n    </tr>\n    <tr>\n      <th>1</th>\n      <td>2000-01-04 00:00:00-05:00</td>\n      <td>63.703158</td>\n      <td>63.982558</td>\n      <td>61.956909</td>\n      <td>62.620483</td>\n      <td>8606279</td>\n      <td>0.0</td>\n      <td>0.0</td>\n    </tr>\n    <tr>\n      <th>2</th>\n      <td>2000-01-05 00:00:00-05:00</td>\n      <td>63.109447</td>\n      <td>66.916272</td>\n      <td>62.655425</td>\n      <td>64.820770</td>\n      <td>13318927</td>\n      <td>0.0</td>\n      <td>0.0</td>\n    </tr>\n    <tr>\n      <th>3</th>\n      <td>2000-01-06 00:00:00-05:00</td>\n      <td>65.938384</td>\n      <td>66.462258</td>\n      <td>63.423786</td>\n      <td>63.703186</td>\n      <td>8338607</td>\n      <td>0.0</td>\n      <td>0.0</td>\n    </tr>\n    <tr>\n      <th>4</th>\n      <td>2000-01-07 00:00:00-05:00</td>\n      <td>65.519260</td>\n      <td>65.903434</td>\n      <td>61.817214</td>\n      <td>63.423763</td>\n      <td>12402108</td>\n      <td>0.0</td>\n      <td>0.0</td>\n    </tr>\n  </tbody>\n</table>\n</div>"
     },
     "execution_count": 2,
     "metadata": {},
     "output_type": "execute_result"
    }
   ],
   "source": [
    "ibm[:5]"
   ],
   "metadata": {
    "collapsed": false
   }
  },
  {
   "cell_type": "code",
   "execution_count": 3,
   "outputs": [
    {
     "data": {
      "text/plain": "0    0.0\n1    1.0\n2    0.0\n3    1.0\n4    1.0\ndtype: float64"
     },
     "execution_count": 3,
     "metadata": {},
     "output_type": "execute_result"
    }
   ],
   "source": [
    "# Testing inequality\n",
    "(ibm['Open'] > ibm['Close']).astype(float)[:5]"
   ],
   "metadata": {
    "collapsed": false
   }
  },
  {
   "cell_type": "code",
   "execution_count": 4,
   "outputs": [
    {
     "data": {
      "text/plain": "0    0.0\n1    1.0\n2    0.0\n3    0.0\n4    1.0\nName: target, dtype: float64"
     },
     "execution_count": 4,
     "metadata": {},
     "output_type": "execute_result"
    }
   ],
   "source": [
    "ibm['target'] = (ibm['Open'] < ibm['Close']).astype(float).shift(-1)\n",
    "\n",
    "ibm['target'][:5]"
   ],
   "metadata": {
    "collapsed": false
   }
  },
  {
   "cell_type": "markdown",
   "source": [
    "### Create Function"
   ],
   "metadata": {
    "collapsed": false
   }
  },
  {
   "cell_type": "code",
   "execution_count": 5,
   "outputs": [],
   "source": [
    "def calculateTarget(df):\n",
    "    df['target'] = (df['Open'] < df['Close']).astype(float).shift(-1)\n",
    "    return df"
   ],
   "metadata": {
    "collapsed": false
   }
  },
  {
   "cell_type": "code",
   "execution_count": 6,
   "outputs": [
    {
     "data": {
      "text/plain": "(        Open      Close  target\n 0  62.830047  64.820770     0.0\n 1  63.703158  62.620483     1.0\n 2  63.109447  64.820770     0.0\n 3  65.938384  63.703186     0.0\n 4  65.519260  63.423763     1.0,\n             Open       Close  target\n 5721  121.650002  122.760002     0.0\n 5722  121.849998  121.629997     0.0\n 5723  121.660004  118.809998     1.0\n 5724  120.160004  121.510002     1.0\n 5725  122.800003  125.500000     NaN)"
     },
     "execution_count": 6,
     "metadata": {},
     "output_type": "execute_result"
    }
   ],
   "source": [
    "# Test function operates as intended\n",
    "ibm = pd.read_csv('../data/ibm_historical.csv')\n",
    "\n",
    "calculateTarget(ibm)\n",
    "\n",
    "ibm[['Open', 'Close', 'target']][:5], ibm[['Open', 'Close', 'target']][-5:]"
   ],
   "metadata": {
    "collapsed": false
   }
  },
  {
   "cell_type": "markdown",
   "source": [
    "### Package into python file"
   ],
   "metadata": {
    "collapsed": false
   }
  },
  {
   "cell_type": "code",
   "execution_count": 7,
   "outputs": [
    {
     "name": "stdout",
     "output_type": "stream",
     "text": [
      "Overwriting ../src/dataPreparation/createTarget.py\n"
     ]
    }
   ],
   "source": [
    "%%writefile ../src/dataPreparation/createTarget.py\n",
    "import pandas as pd\n",
    "\n",
    "\n",
    "def calculateTarget(df):\n",
    "    \"\"\"\n",
    "    Calculates target variable from a pandas dataframe, does this in an inplace fashion.\n",
    "    Dataframe MUST contain columns 'Open' and 'Close'.\n",
    "    :param df:\n",
    "    \"\"\"\n",
    "    df['target'] = (df['Open'] < df['Close']).astype(float).shift(-1)\n",
    "    return df"
   ],
   "metadata": {
    "collapsed": false
   }
  },
  {
   "cell_type": "markdown",
   "source": [
    "## Data cleaning function\n",
    "\n",
    "Initial exploration showed that the variables stock splits and dividends are unlikely to have much predictive power. It also revealed that there are some empty rows, which also need to be removed."
   ],
   "metadata": {
    "collapsed": false
   }
  },
  {
   "cell_type": "code",
   "execution_count": 11,
   "outputs": [],
   "source": [
    "# Import required libraries\n",
    "import pandas as pd\n",
    "import tensorflow as tf\n",
    "import numpy as np\n",
    "import src.dataPreparation as prep\n",
    "\n",
    "# Import data for development\n",
    "ibm = pd.read_csv('../data/ibm_historical.csv', delimiter=',')\n",
    "\n",
    "# Remove date from dataframe since it is no longer needed - In fact I will include this in the function so only one line needs to be removed\n",
    "ibm.drop(columns=['Date'], inplace=True)"
   ],
   "metadata": {
    "collapsed": false
   }
  },
  {
   "cell_type": "code",
   "execution_count": 12,
   "outputs": [],
   "source": [
    "# New logic to add\n",
    "\n",
    "ibm.drop(columns=['Dividends', 'Stock Splits'], inplace=True)\n",
    "\n",
    "ibm.drop_duplicates(inplace=True)"
   ],
   "metadata": {
    "collapsed": false
   }
  },
  {
   "cell_type": "code",
   "execution_count": 15,
   "outputs": [
    {
     "data": {
      "text/plain": "            Open        High         Low       Close    Volume\n0      62.830047   64.820770   62.515725   64.820770  10823694\n1      63.703158   63.982558   61.956909   62.620483   8606279\n2      63.109447   66.916272   62.655425   64.820770  13318927\n3      65.938384   66.462258   63.423786   63.703186   8338607\n4      65.519260   65.903434   61.817214   63.423763  12402108\n...          ...         ...         ...         ...       ...\n5721  121.650002  123.230003  119.809998  122.760002   4996400\n5722  121.849998  122.620003  120.570000  121.629997   3817700\n5723  121.660004  122.430000  118.610001  118.809998   5344800\n5724  120.160004  122.209999  119.599998  121.510002   4261700\n5725  122.800003  125.650002  122.519997  125.500000   4565500\n\n[5726 rows x 5 columns]",
      "text/html": "<div>\n<style scoped>\n    .dataframe tbody tr th:only-of-type {\n        vertical-align: middle;\n    }\n\n    .dataframe tbody tr th {\n        vertical-align: top;\n    }\n\n    .dataframe thead th {\n        text-align: right;\n    }\n</style>\n<table border=\"1\" class=\"dataframe\">\n  <thead>\n    <tr style=\"text-align: right;\">\n      <th></th>\n      <th>Open</th>\n      <th>High</th>\n      <th>Low</th>\n      <th>Close</th>\n      <th>Volume</th>\n    </tr>\n  </thead>\n  <tbody>\n    <tr>\n      <th>0</th>\n      <td>62.830047</td>\n      <td>64.820770</td>\n      <td>62.515725</td>\n      <td>64.820770</td>\n      <td>10823694</td>\n    </tr>\n    <tr>\n      <th>1</th>\n      <td>63.703158</td>\n      <td>63.982558</td>\n      <td>61.956909</td>\n      <td>62.620483</td>\n      <td>8606279</td>\n    </tr>\n    <tr>\n      <th>2</th>\n      <td>63.109447</td>\n      <td>66.916272</td>\n      <td>62.655425</td>\n      <td>64.820770</td>\n      <td>13318927</td>\n    </tr>\n    <tr>\n      <th>3</th>\n      <td>65.938384</td>\n      <td>66.462258</td>\n      <td>63.423786</td>\n      <td>63.703186</td>\n      <td>8338607</td>\n    </tr>\n    <tr>\n      <th>4</th>\n      <td>65.519260</td>\n      <td>65.903434</td>\n      <td>61.817214</td>\n      <td>63.423763</td>\n      <td>12402108</td>\n    </tr>\n    <tr>\n      <th>...</th>\n      <td>...</td>\n      <td>...</td>\n      <td>...</td>\n      <td>...</td>\n      <td>...</td>\n    </tr>\n    <tr>\n      <th>5721</th>\n      <td>121.650002</td>\n      <td>123.230003</td>\n      <td>119.809998</td>\n      <td>122.760002</td>\n      <td>4996400</td>\n    </tr>\n    <tr>\n      <th>5722</th>\n      <td>121.849998</td>\n      <td>122.620003</td>\n      <td>120.570000</td>\n      <td>121.629997</td>\n      <td>3817700</td>\n    </tr>\n    <tr>\n      <th>5723</th>\n      <td>121.660004</td>\n      <td>122.430000</td>\n      <td>118.610001</td>\n      <td>118.809998</td>\n      <td>5344800</td>\n    </tr>\n    <tr>\n      <th>5724</th>\n      <td>120.160004</td>\n      <td>122.209999</td>\n      <td>119.599998</td>\n      <td>121.510002</td>\n      <td>4261700</td>\n    </tr>\n    <tr>\n      <th>5725</th>\n      <td>122.800003</td>\n      <td>125.650002</td>\n      <td>122.519997</td>\n      <td>125.500000</td>\n      <td>4565500</td>\n    </tr>\n  </tbody>\n</table>\n<p>5726 rows × 5 columns</p>\n</div>"
     },
     "execution_count": 15,
     "metadata": {},
     "output_type": "execute_result"
    }
   ],
   "source": [
    "ibm"
   ],
   "metadata": {
    "collapsed": false
   }
  },
  {
   "cell_type": "code",
   "execution_count": 16,
   "outputs": [
    {
     "name": "stdout",
     "output_type": "stream",
     "text": [
      "Writing ../src/dataPreparation/dataCleaning.py\n"
     ]
    }
   ],
   "source": [
    "%%writefile ../src/dataPreparation/dataCleaning.py\n",
    "# Import required libraries\n",
    "import pandas as pd\n",
    "\n",
    "def dataCleaning(df, temporal=False):\n",
    "    df.drop(columns=['Dividends', 'Stock Splits'], inplace=True)\n",
    "\n",
    "    df.drop_duplicates(inplace=True)\n",
    "\n",
    "    if temporal:\n",
    "        df.drop(columns=['Date'])\n",
    "\n",
    "    pass"
   ],
   "metadata": {
    "collapsed": false
   }
  },
  {
   "cell_type": "markdown",
   "source": [
    "## Non Temporal CNN data preparation\n",
    "\n",
    "This approach involves consolidating a specific window of data from the dataset into a matrix, which is exactly the same format an image would be propagated through a neural network.\n",
    "\n",
    "This will require function to be created that 'packages' the data into the matrices.\n"
   ],
   "metadata": {
    "collapsed": false
   }
  },
  {
   "cell_type": "code",
   "execution_count": 1,
   "outputs": [],
   "source": [
    "# Import required libraries\n",
    "import pandas as pd\n",
    "import tensorflow as tf\n",
    "import numpy as np\n",
    "import src.dataPreparation as prep\n",
    "\n",
    "# Import data for development\n",
    "msft = pd.read_csv('../data/msft_historical.csv', delimiter=',')\n",
    "\n",
    "# Remove Date from dataframe since it is not required anymore\n",
    "msft.drop(columns=['Date'], inplace=True)\n",
    "\n",
    "# Calculate target variable\n",
    "msft = prep.calculateTarget(msft)\n",
    "\n",
    "# Separate x and y\n",
    "X, y = msft.drop(columns='target'), msft.target"
   ],
   "metadata": {
    "collapsed": false
   }
  },
  {
   "cell_type": "code",
   "execution_count": 2,
   "outputs": [
    {
     "name": "stdout",
     "output_type": "stream",
     "text": [
      "Metal device set to: Apple M1 Pro\n"
     ]
    },
    {
     "name": "stderr",
     "output_type": "stream",
     "text": [
      "2022-10-10 21:00:48.006472: I tensorflow/core/common_runtime/pluggable_device/pluggable_device_factory.cc:306] Could not identify NUMA node of platform GPU ID 0, defaulting to 0. Your kernel may not have been built with NUMA support.\n",
      "2022-10-10 21:00:48.006595: I tensorflow/core/common_runtime/pluggable_device/pluggable_device_factory.cc:272] Created TensorFlow device (/job:localhost/replica:0/task:0/device:GPU:0 with 0 MB memory) -> physical PluggableDevice (device: 0, name: METAL, pci bus id: <undefined>)\n"
     ]
    }
   ],
   "source": [
    "# Convert pandas dataframe to tensorflow tensor to improve computational speed\n",
    "X_tensor = tf.convert_to_tensor(X)\n",
    "y_tensor = tf.convert_to_tensor(y)"
   ],
   "metadata": {
    "collapsed": false
   }
  },
  {
   "cell_type": "code",
   "execution_count": 3,
   "outputs": [],
   "source": [
    "# Creating the first packet of data for window size of 5\n",
    "first_packet_x = X_tensor[:5]\n",
    "first_packet_y = y_tensor[5]"
   ],
   "metadata": {
    "collapsed": false
   }
  },
  {
   "cell_type": "code",
   "execution_count": 4,
   "outputs": [
    {
     "data": {
      "text/plain": "(<tf.Tensor: shape=(5, 7), dtype=float64, numpy=\n array([[3.68101952e+01, 3.72022101e+01, 3.51245314e+01, 3.65553856e+01,\n         5.32284000e+07, 0.00000000e+00, 0.00000000e+00],\n        [3.56145333e+01, 3.67317751e+01, 3.52029179e+01, 3.53205223e+01,\n         5.41190000e+07, 0.00000000e+00, 0.00000000e+00],\n        [3.48501156e+01, 3.64965777e+01, 3.43012949e+01, 3.56929474e+01,\n         6.40596000e+07, 0.00000000e+00, 0.00000000e+00],\n        [3.51833250e+01, 3.57125450e+01, 3.39876800e+01, 3.44972992e+01,\n         5.49766000e+07, 0.00000000e+00, 0.00000000e+00],\n        [3.40660831e+01, 3.52029259e+01, 3.36544676e+01, 3.49481163e+01,\n         6.20136000e+07, 0.00000000e+00, 0.00000000e+00]])>,\n <tf.Tensor: shape=(), dtype=float64, numpy=0.0>)"
     },
     "execution_count": 4,
     "metadata": {},
     "output_type": "execute_result"
    }
   ],
   "source": [
    "first_packet_x, first_packet_y"
   ],
   "metadata": {
    "collapsed": false
   }
  },
  {
   "cell_type": "code",
   "execution_count": 7,
   "outputs": [
    {
     "data": {
      "text/plain": "(TensorShape([5726, 7]), TensorShape([5726]))"
     },
     "execution_count": 7,
     "metadata": {},
     "output_type": "execute_result"
    }
   ],
   "source": [
    "# Check tensor shapes\n",
    "X_tensor.shape, y_tensor.shape"
   ],
   "metadata": {
    "collapsed": false
   }
  },
  {
   "cell_type": "code",
   "execution_count": 26,
   "outputs": [
    {
     "data": {
      "text/plain": "(TensorShape([5721, 5, 7]), TensorShape([5721]))"
     },
     "execution_count": 26,
     "metadata": {},
     "output_type": "execute_result"
    }
   ],
   "source": [
    "# Create list for tensors\n",
    "X_tensor_stack = []\n",
    "\n",
    "# Create loop logic to create packets for a window size of 5\n",
    "for i, _ in enumerate(X_tensor[:-1]):\n",
    "    i += 5\n",
    "\n",
    "    packet = X_tensor[:-1][i-5:i]\n",
    "    X_tensor_stack.append(packet)\n",
    "\n",
    "# Turn stack into one tensor\n",
    "X_tensor_reshape = tf.stack(X_tensor_stack[:-4])\n",
    "\n",
    "# Find target values\n",
    "y_tensor_reshape = y_tensor[5:]\n",
    "\n",
    "X_tensor_reshape.shape, y_tensor_reshape.shape"
   ],
   "metadata": {
    "collapsed": false
   }
  },
  {
   "cell_type": "markdown",
   "source": [
    "### Create function"
   ],
   "metadata": {
    "collapsed": false
   }
  },
  {
   "cell_type": "code",
   "execution_count": null,
   "outputs": [],
   "source": [
    "def nonTemporalTransform(X, y, window_size):\n",
    "    # Convert to tensor format\n",
    "    X_tensor = tf.convert_to_tensor(X)\n",
    "    y_tensor = tf.convert_to_tensor(y)\n",
    "\n",
    "    # Create list for stack\n",
    "    X_tensor_stack = []\n",
    "\n",
    "    # Package loop\n",
    "    for i, _ in enumerate(X_tensor):\n",
    "        i += window_size\n",
    "\n",
    "        packet = X_tensor[:-1][i-window_size:i]\n",
    "        X_tensor_stack.append(packet)\n",
    "\n",
    "    # Convert stack into one tensor\n",
    "    X_reshape = tf.stack(X_tensor_stack[:-(window_size-1)])\n",
    "\n",
    "    # Find target values\n",
    "    y_reshape = y_tensor[window_size:]\n",
    "\n",
    "    return X_reshape, y_reshape"
   ],
   "metadata": {
    "collapsed": false
   }
  },
  {
   "cell_type": "markdown",
   "source": [
    "### Package into python file"
   ],
   "metadata": {
    "collapsed": false
   }
  },
  {
   "cell_type": "code",
   "execution_count": 35,
   "outputs": [
    {
     "name": "stdout",
     "output_type": "stream",
     "text": [
      "Overwriting ../src/dataPreparation/nonTemporalWindowFunction.py\n"
     ]
    }
   ],
   "source": [
    "%%writefile ../src/dataPreparation/nonTemporalWindowFunction.py\n",
    "# Import requried libraries\n",
    "import pandas as pd\n",
    "import tensorflow as tf\n",
    "import numpy as np\n",
    "\n",
    "def nonTemporalTransform(X, y, window_size):\n",
    "    \"\"\"\n",
    "\n",
    "    :param X: X values in pandas dataframe format\n",
    "    :param y: y values in pandas dataframe format\n",
    "    :param window_size: size of prediction window\n",
    "    :return:\n",
    "    \"\"\"\n",
    "    # Convert to tensor format\n",
    "    X_tensor = tf.convert_to_tensor(X)\n",
    "    y_tensor = tf.convert_to_tensor(y)\n",
    "\n",
    "    # Create list for stack\n",
    "    X_tensor_stack = []\n",
    "\n",
    "    # Package loop\n",
    "    for i, _ in enumerate(X_tensor):\n",
    "        i += window_size\n",
    "\n",
    "        packet = X_tensor[:-1][i-window_size:i]\n",
    "        X_tensor_stack.append(packet)\n",
    "\n",
    "    # Convert stack into one tensor\n",
    "    X_reshape = tf.stack(X_tensor_stack[:len(X_tensor_stack)-window_size])\n",
    "\n",
    "    # Find target values\n",
    "    y_reshape = y_tensor[window_size:]\n",
    "\n",
    "    return X_reshape, y_reshape\n"
   ],
   "metadata": {
    "collapsed": false
   }
  },
  {
   "cell_type": "markdown",
   "source": [
    "## Tensor normalizer"
   ],
   "metadata": {
    "collapsed": false
   }
  },
  {
   "cell_type": "code",
   "execution_count": 1,
   "outputs": [
    {
     "name": "stdout",
     "output_type": "stream",
     "text": [
      "Metal device set to: Apple M1 Pro\n"
     ]
    },
    {
     "name": "stderr",
     "output_type": "stream",
     "text": [
      "2022-11-04 18:00:55.117649: I tensorflow/core/common_runtime/pluggable_device/pluggable_device_factory.cc:306] Could not identify NUMA node of platform GPU ID 0, defaulting to 0. Your kernel may not have been built with NUMA support.\n",
      "2022-11-04 18:00:55.117771: I tensorflow/core/common_runtime/pluggable_device/pluggable_device_factory.cc:272] Created TensorFlow device (/job:localhost/replica:0/task:0/device:GPU:0 with 0 MB memory) -> physical PluggableDevice (device: 0, name: METAL, pci bus id: <undefined>)\n"
     ]
    }
   ],
   "source": [
    "# Import required libraries\n",
    "import tensorflow as tf\n",
    "import numpy as np\n",
    "import pandas as pd\n",
    "import src.dataPreparation as prep\n",
    "\n",
    "# Import nvda_historical.csv for dev\n",
    "nvda = pd.read_csv('../data/nvda_historical.csv')\n",
    "\n",
    "# Create fake y_tensor\n",
    "fake_y = tf.random.uniform(shape=(1, len(nvda)))\n",
    "\n",
    "# Transform data into windowed format\n",
    "window = 5\n",
    "\n",
    "nvda, fake_y = prep.nonTemporalTransform(\n",
    "    nvda.drop(columns=['Date']),\n",
    "    fake_y,\n",
    "    window_size=window\n",
    ")\n"
   ],
   "metadata": {
    "collapsed": false
   }
  },
  {
   "cell_type": "code",
   "execution_count": 6,
   "outputs": [],
   "source": [
    "nvda = tf.cast(nvda, tf.float32)\n",
    "nvda_norm = tf.math.divide(\n",
    "    tf.subtract(\n",
    "        nvda,\n",
    "        tf.reduce_min(nvda)\n",
    "    ),\n",
    "    tf.subtract(\n",
    "        tf.reduce_max(nvda),\n",
    "        tf.reduce_min(nvda)\n",
    "    )\n",
    ")"
   ],
   "metadata": {
    "collapsed": false
   }
  },
  {
   "cell_type": "code",
   "execution_count": 12,
   "outputs": [
    {
     "data": {
      "text/plain": "<tf.Tensor: shape=(), dtype=float32, numpy=1.0>"
     },
     "execution_count": 12,
     "metadata": {},
     "output_type": "execute_result"
    }
   ],
   "source": [
    "tf.reduce_max(nvda_norm)"
   ],
   "metadata": {
    "collapsed": false
   }
  },
  {
   "cell_type": "markdown",
   "source": [
    "## Shuffling tensors of rank 3\n",
    "\n",
    "For the non-temporal approach learning can be improved by creating a non-sequential dataset, however how this has been structured means that I need to shuffle two tensors in the same way."
   ],
   "metadata": {
    "collapsed": false
   }
  },
  {
   "cell_type": "code",
   "execution_count": 8,
   "outputs": [],
   "source": [
    "import tensorflow as tf\n",
    "import numpy as np"
   ],
   "metadata": {
    "collapsed": false
   }
  },
  {
   "cell_type": "code",
   "execution_count": 10,
   "outputs": [
    {
     "name": "stdout",
     "output_type": "stream",
     "text": [
      "tf.Tensor([0 1 2 3 4], shape=(5,), dtype=int64) tf.Tensor([b'a' b'b' b'c' b'd' b'e'], shape=(5,), dtype=string)\n",
      "(<tf.Tensor: shape=(5,), dtype=int64, numpy=array([3, 4, 1, 0, 2])>,) tf.Tensor([b'd' b'e' b'b' b'a' b'c'], shape=(5,), dtype=string)\n"
     ]
    }
   ],
   "source": [
    "x = tf.convert_to_tensor(np.arange(5))\n",
    "y = tf.convert_to_tensor(['a', 'b', 'c', 'd', 'e'])\n",
    "\n",
    "indices = tf.range(start=0, limit=tf.shape(x)[0])\n",
    "shuffled_indices = tf.random.shuffle(indices)\n",
    "\n",
    "shuffled_x = tf.gather(x, shuffled_indices),\n",
    "shuffled_y = tf.gather(y, shuffled_indices)\n",
    "\n",
    "print(x, y)\n",
    "print(shuffled_x, shuffled_y)"
   ],
   "metadata": {
    "collapsed": false
   }
  },
  {
   "cell_type": "markdown",
   "source": [
    "### Convert to function and test"
   ],
   "metadata": {
    "collapsed": false
   }
  },
  {
   "cell_type": "code",
   "execution_count": 14,
   "outputs": [],
   "source": [
    "def shuffle_tensors(X, y, seed=None):\n",
    "    assert tf.shape(X)[0] == tf.shape(y)[0], 'X and y MUST be the same length'\n",
    "    shuffled_indices = tf.random.shuffle(\n",
    "        tf.range(start=0, limit=tf.shape(X)[0]),\n",
    "        seed=seed\n",
    "    )\n",
    "    shuffled_x = tf.gather(X, shuffled_indices, axis=0)\n",
    "    shuffled_y = tf.gather(y, shuffled_indices, axis=0)\n",
    "    return shuffled_x, shuffled_y"
   ],
   "metadata": {
    "collapsed": false
   }
  },
  {
   "cell_type": "code",
   "execution_count": 15,
   "outputs": [
    {
     "data": {
      "text/plain": "(<tf.Tensor: shape=(3, 2), dtype=int32, numpy=\n array([[5, 6],\n        [3, 4],\n        [1, 2]], dtype=int32)>,\n <tf.Tensor: shape=(3, 2), dtype=int32, numpy=\n array([[15, 16],\n        [13, 14],\n        [11, 12]], dtype=int32)>)"
     },
     "execution_count": 15,
     "metadata": {},
     "output_type": "execute_result"
    }
   ],
   "source": [
    "test_1 = tf.Variable(\n",
    "    [\n",
    "        [1, 2],\n",
    "        [3, 4],\n",
    "        [5, 6]\n",
    "    ])\n",
    "\n",
    "test_2 = tf.Variable(\n",
    "    [\n",
    "        [11, 12],\n",
    "        [13, 14],\n",
    "        [15, 16]\n",
    "    ]\n",
    ")\n",
    "\n",
    "shuffle_tensors(test_1, test_2)"
   ],
   "metadata": {
    "collapsed": false
   }
  },
  {
   "cell_type": "code",
   "execution_count": 17,
   "outputs": [
    {
     "name": "stdout",
     "output_type": "stream",
     "text": [
      "Writing ../src/dataPreparation/shuffleTensors.py\n"
     ]
    }
   ],
   "source": [
    "%%writefile ../src/dataPreparation/shuffleTensors.py\n",
    "# Import required libraries\n",
    "import tensorflow as tf\n",
    "\n",
    "\n",
    "def shuffle_tensors(X, y, seed=None):\n",
    "    '''\n",
    "\n",
    "    :param X:\n",
    "    :param y:\n",
    "    :param seed:\n",
    "    :return:\n",
    "    '''\n",
    "    assert tf.shape(X)[0] == tf.shape(y)[0], 'X and y MUST be the same length'\n",
    "    shuffled_indices = tf.random.shuffle(\n",
    "        tf.range(start=0, limit=tf.shape(X)[0]),\n",
    "        seed=seed\n",
    "    )\n",
    "\n",
    "    shuffled_X = tf.gather(X, shuffled_indices, axis=0)\n",
    "    shuffled_y = tf.gather(y, shuffled_indices, axis=0)\n",
    "\n",
    "    return shuffled_X, shuffled_y\n"
   ],
   "metadata": {
    "collapsed": false
   }
  },
  {
   "cell_type": "markdown",
   "source": [
    "## Creating a log function for the tensor blocks"
   ],
   "metadata": {
    "collapsed": false
   }
  },
  {
   "cell_type": "code",
   "execution_count": 2,
   "outputs": [
    {
     "name": "stdout",
     "output_type": "stream",
     "text": [
      "Metal device set to: Apple M1 Pro\n"
     ]
    },
    {
     "name": "stderr",
     "output_type": "stream",
     "text": [
      "2022-11-11 13:22:14.108456: I tensorflow/core/common_runtime/pluggable_device/pluggable_device_factory.cc:306] Could not identify NUMA node of platform GPU ID 0, defaulting to 0. Your kernel may not have been built with NUMA support.\n",
      "2022-11-11 13:22:14.108587: I tensorflow/core/common_runtime/pluggable_device/pluggable_device_factory.cc:272] Created TensorFlow device (/job:localhost/replica:0/task:0/device:GPU:0 with 0 MB memory) -> physical PluggableDevice (device: 0, name: METAL, pci bus id: <undefined>)\n"
     ]
    }
   ],
   "source": [
    "# Import required libraries\n",
    "import tensorflow as tf\n",
    "import numpy as np\n",
    "import pandas as pd\n",
    "import src.dataPreparation as prep\n",
    "\n",
    "# Import nvda_historical.csv for dev\n",
    "nvda = pd.read_csv('../data/nvda_historical.csv')\n",
    "\n",
    "# Create fake y_tensor\n",
    "fake_y = tf.random.uniform(shape=(1, len(nvda)))\n",
    "\n",
    "# Transform data into windowed format\n",
    "window = 5\n",
    "\n",
    "nvda, fake_y = prep.nonTemporalTransform(\n",
    "    nvda.drop(columns=['Date']),\n",
    "    fake_y,\n",
    "    window_size=window\n",
    ")\n"
   ],
   "metadata": {
    "collapsed": false
   }
  },
  {
   "cell_type": "code",
   "execution_count": 3,
   "outputs": [
    {
     "data": {
      "text/plain": "<tf.Tensor: shape=(2, 5, 7), dtype=float64, numpy=\narray([[[-0.10132055, -0.09341489, -0.16974652, -0.11062335,\n         17.21974333,        -inf,        -inf],\n        [-0.12813188, -0.12541735, -0.18977536, -0.13768768,\n         17.21830666,        -inf,        -inf],\n        [-0.16691753, -0.15011041, -0.18544969, -0.17116356,\n         16.75123802,        -inf,        -inf],\n        [-0.17116369, -0.17116369, -0.28047197, -0.23863813,\n         16.30440923,        -inf,        -inf],\n        [-0.24320054, -0.21169088, -0.25856201, -0.22208381,\n         15.77819354,        -inf,        -inf]],\n\n       [[-0.12813188, -0.12541735, -0.18977536, -0.13768768,\n         17.21830666,        -inf,        -inf],\n        [-0.16691753, -0.15011041, -0.18544969, -0.17116356,\n         16.75123802,        -inf,        -inf],\n        [-0.17116369, -0.17116369, -0.28047197, -0.23863813,\n         16.30440923,        -inf,        -inf],\n        [-0.24320054, -0.21169088, -0.25856201, -0.22208381,\n         15.77819354,        -inf,        -inf],\n        [-0.21910333, -0.15011046, -0.23712184, -0.18977536,\n         16.99296421,        -inf,        -inf]]])>"
     },
     "execution_count": 3,
     "metadata": {},
     "output_type": "execute_result"
    }
   ],
   "source": [
    "tf.math.log(nvda[0:2])"
   ],
   "metadata": {
    "collapsed": false
   }
  },
  {
   "cell_type": "markdown",
   "source": [
    "Looks like the default function works quite well, however there is an issue with where the data is 0. This will need to be resolved."
   ],
   "metadata": {
    "collapsed": false
   }
  },
  {
   "cell_type": "code",
   "execution_count": 8,
   "outputs": [],
   "source": [],
   "metadata": {
    "collapsed": false
   }
  },
  {
   "cell_type": "code",
   "execution_count": 8,
   "outputs": [],
   "source": [],
   "metadata": {
    "collapsed": false
   }
  },
  {
   "cell_type": "code",
   "execution_count": null,
   "outputs": [],
   "source": [],
   "metadata": {
    "collapsed": false
   }
  }
 ],
 "metadata": {
  "kernelspec": {
   "display_name": "Python 3",
   "language": "python",
   "name": "python3"
  },
  "language_info": {
   "codemirror_mode": {
    "name": "ipython",
    "version": 2
   },
   "file_extension": ".py",
   "mimetype": "text/x-python",
   "name": "python",
   "nbconvert_exporter": "python",
   "pygments_lexer": "ipython2",
   "version": "2.7.6"
  }
 },
 "nbformat": 4,
 "nbformat_minor": 0
}

{
 "cells": [
  {
   "cell_type": "markdown",
   "source": [
    "# Non Temporal CNN approach"
   ],
   "metadata": {
    "collapsed": false
   }
  },
  {
   "cell_type": "code",
   "execution_count": 20,
   "outputs": [
    {
     "data": {
      "text/plain": "True"
     },
     "execution_count": 20,
     "metadata": {},
     "output_type": "execute_result"
    }
   ],
   "source": [
    "# Import required libraries\n",
    "import pandas as pd\n",
    "import src.dataPreparation as prep\n",
    "import numpy as np\n",
    "import tensorflow as tf\n",
    "import tests.timeseriestesting as tst\n",
    "import wandb\n",
    "\n",
    "wandb.login()"
   ],
   "metadata": {
    "collapsed": false
   }
  },
  {
   "cell_type": "code",
   "execution_count": 21,
   "metadata": {
    "collapsed": true
   },
   "outputs": [],
   "source": [
    "# Import data\n",
    "ibm = pd.read_csv('../data/ibm_historical.csv')\n",
    "msft = pd.read_csv('../data/msft_historical.csv')\n",
    "nvda = pd.read_csv('../data/nvda_historical.csv')\n",
    "\n",
    "# Drop Date column\n",
    "ibm.drop(columns=['Date'], inplace=True)\n",
    "msft.drop(columns=['Date'], inplace=True)\n",
    "nvda.drop(columns=['Date'], inplace=True)\n",
    "\n",
    "# Data cleaning steps\n",
    "prep.dataCleaning(ibm)\n",
    "prep.dataCleaning(msft)\n",
    "prep.dataCleaning(nvda)\n",
    "\n",
    "# Create target variables\n",
    "ibm = prep.calculateTarget(ibm)\n",
    "msft = prep.calculateTarget(msft)\n",
    "nvda = prep.calculateTarget(nvda)\n",
    "\n",
    "# Create train and test sets\n",
    "ibm_train, ibm_test = ibm[:-858], ibm[-858:]\n",
    "msft_train, msft_test = msft[:-858], msft[-858:]\n",
    "nvda_train, nvda_test = nvda[:-858], nvda[-858:]\n"
   ]
  },
  {
   "cell_type": "code",
   "execution_count": 22,
   "outputs": [],
   "source": [
    "# Transform for modelling\n",
    "window = 5\n",
    "\n",
    "ibm_train_X, ibm_train_y = prep.nonTemporalTransform(\n",
    "    ibm_train.drop(columns=['target']),\n",
    "    ibm_train['target'],\n",
    "    window_size=window\n",
    ")\n",
    "\n",
    "msft_train_X, msft_train_y = prep.nonTemporalTransform(\n",
    "    msft_train.drop(columns=['target']),\n",
    "    msft_train['target'],\n",
    "    window_size=window\n",
    ")\n",
    "\n",
    "nvda_train_X, nvda_train_y = prep.nonTemporalTransform(\n",
    "    nvda_train.drop(columns=['target']),\n",
    "    nvda_train['target'],\n",
    "    window_size=window\n",
    ")\n",
    "\n",
    "# Shuffle training tensors\n",
    "ibm_train_X, ibm_train_y = prep.shuffle_tensors(ibm_train_X, ibm_train_y)\n",
    "msft_train_X, msft_train_y = prep.shuffle_tensors(msft_train_X, msft_train_y)\n",
    "nvda_train_X, nvda_train_y = prep.shuffle_tensors(nvda_train_X, nvda_train_y)\n"
   ],
   "metadata": {
    "collapsed": false
   }
  },
  {
   "cell_type": "code",
   "execution_count": 23,
   "outputs": [],
   "source": [
    "# Create validation tests\n",
    "ibm_train_X, ibm_val_X, ibm_train_y, ibm_val_y = ibm_train_X[:-858], ibm_train_X[-858:], ibm_train_y[:-858], ibm_train_y[-858:]\n",
    "msft_train_X, msft_val_X, msft_train_y, msft_val_y = msft_train_X[:-858], msft_train_X[-858:], msft_train_y[:-858], msft_train_y[-858:]\n",
    "nvda_train_X, nvda_val_X, nvda_train_y, nvda_val_y = nvda_train_X[:-858], nvda_train_X[-858:], nvda_train_y[:-858], nvda_train_y[-858:]\n",
    "\n",
    "# TODO Clean test data\n",
    "ibm_test_X, ibm_test_y = prep.nonTemporalTransform(\n",
    "    ibm_test.drop(columns=['target']),\n",
    "    ibm_test['target'],\n",
    "    window_size=window\n",
    ")\n",
    "\n",
    "msft_test_X, msft_test_y = prep.nonTemporalTransform(\n",
    "    msft_test.drop(columns=['target']),\n",
    "    msft_test['target'],\n",
    "    window_size=window\n",
    ")\n",
    "\n",
    "nvda_test_X, nvda_test_y = prep.nonTemporalTransform(\n",
    "    nvda_test.drop(columns=['target']),\n",
    "    nvda_test['target'],\n",
    "    window_size=window\n",
    ")"
   ],
   "metadata": {
    "collapsed": false
   }
  },
  {
   "cell_type": "code",
   "execution_count": 24,
   "outputs": [
    {
     "data": {
      "text/plain": "<IPython.core.display.HTML object>",
      "text/html": "wandb version 0.13.5 is available!  To upgrade, please run:\n $ pip install wandb --upgrade"
     },
     "metadata": {},
     "output_type": "display_data"
    },
    {
     "data": {
      "text/plain": "<IPython.core.display.HTML object>",
      "text/html": "Tracking run with wandb version 0.13.1"
     },
     "metadata": {},
     "output_type": "display_data"
    },
    {
     "data": {
      "text/plain": "<IPython.core.display.HTML object>",
      "text/html": "Run data is saved locally in <code>/Users/georgeharris/TradingSystem/notebooks/wandb/run-20221112_105252-jnzf2lkz</code>"
     },
     "metadata": {},
     "output_type": "display_data"
    },
    {
     "data": {
      "text/plain": "<IPython.core.display.HTML object>",
      "text/html": "Syncing run <strong><a href=\"https://wandb.ai/gharris96/Trading-system/runs/jnzf2lkz\" target=\"_blank\">likely-resonance-2</a></strong> to <a href=\"https://wandb.ai/gharris96/Trading-system\" target=\"_blank\">Weights & Biases</a> (<a href=\"https://wandb.me/run\" target=\"_blank\">docs</a>)<br/>"
     },
     "metadata": {},
     "output_type": "display_data"
    },
    {
     "data": {
      "text/html": "<button onClick=\"this.nextSibling.style.display='block';this.style.display='none';\">Display W&B run</button><iframe src=\"https://wandb.ai/gharris96/Trading-system/runs/jnzf2lkz?jupyter=true\" style=\"border:none;width:100%;height:420px;display:none;\"></iframe>",
      "text/plain": "<wandb.sdk.wandb_run.Run at 0x2b79218e0>"
     },
     "execution_count": 24,
     "metadata": {},
     "output_type": "execute_result"
    }
   ],
   "source": [
    "wandb.init(project=\"Trading-system\",\n",
    "           config={\n",
    "               \"batch_size\": 32,\n",
    "               \"learning_rate\": 0.001,\n",
    "               \"dataset\": \"IBM_daily\",\n",
    "           })"
   ],
   "metadata": {
    "collapsed": false
   }
  },
  {
   "cell_type": "code",
   "execution_count": 25,
   "outputs": [
    {
     "data": {
      "text/plain": "<wandb.jupyter.IFrame at 0x2b7913700>",
      "text/html": "<iframe src=\"https://wandb.ai/gharris96/Trading-system/runs/jnzf2lkz?jupyter=true\" style=\"border:none;width:100%;height:420px;\"></iframe>"
     },
     "metadata": {},
     "output_type": "display_data"
    },
    {
     "name": "stderr",
     "output_type": "stream",
     "text": [
      "\u001B[34m\u001B[1mwandb\u001B[0m: \u001B[33mWARNING\u001B[0m The save_model argument by default saves the model in the HDF5 format that cannot save custom objects like subclassed models and custom layers. This behavior will be deprecated in a future release in favor of the SavedModel format. Meanwhile, the HDF5 model is saved as W&B files and the SavedModel as W&B Artifacts.\n",
      "\u001B[34m\u001B[1mwandb\u001B[0m: \u001B[33mWARNING\u001B[0m Unable to compute FLOPs for this model.\n"
     ]
    },
    {
     "name": "stdout",
     "output_type": "stream",
     "text": [
      "Epoch 1/100\n"
     ]
    },
    {
     "name": "stderr",
     "output_type": "stream",
     "text": [
      "2022-11-12 10:52:56.112120: I tensorflow/core/grappler/optimizers/custom_graph_optimizer_registry.cc:114] Plugin optimizer for device_type GPU is enabled.\n"
     ]
    },
    {
     "name": "stdout",
     "output_type": "stream",
     "text": [
      "126/126 [==============================] - 2s 12ms/step - loss: 112521.8281 - accuracy: 0.5031\n",
      "Epoch 2/100\n",
      "126/126 [==============================] - 1s 10ms/step - loss: 26816.9453 - accuracy: 0.5074\n",
      "Epoch 3/100\n",
      "126/126 [==============================] - 1s 10ms/step - loss: 6604.8535 - accuracy: 0.4921\n",
      "Epoch 4/100\n",
      "126/126 [==============================] - 1s 9ms/step - loss: 0.6934 - accuracy: 0.4792\n",
      "Epoch 5/100\n",
      "126/126 [==============================] - 1s 10ms/step - loss: 0.6930 - accuracy: 0.5194\n",
      "Epoch 6/100\n",
      "126/126 [==============================] - 1s 9ms/step - loss: 0.6928 - accuracy: 0.5208\n",
      "Epoch 7/100\n",
      "126/126 [==============================] - 1s 9ms/step - loss: 0.6926 - accuracy: 0.5208\n",
      "Epoch 8/100\n",
      "126/126 [==============================] - 1s 9ms/step - loss: 0.6925 - accuracy: 0.5208\n",
      "Epoch 9/100\n",
      "126/126 [==============================] - 1s 9ms/step - loss: 0.6924 - accuracy: 0.5208\n",
      "Epoch 10/100\n",
      "126/126 [==============================] - 1s 9ms/step - loss: 0.6924 - accuracy: 0.5208\n",
      "Epoch 11/100\n",
      "126/126 [==============================] - 1s 9ms/step - loss: 0.6923 - accuracy: 0.5208\n",
      "Epoch 12/100\n",
      "126/126 [==============================] - 1s 10ms/step - loss: 0.6924 - accuracy: 0.5208\n",
      "Epoch 13/100\n",
      "126/126 [==============================] - 1s 9ms/step - loss: 0.6923 - accuracy: 0.5208\n",
      "Epoch 14/100\n",
      "126/126 [==============================] - 1s 9ms/step - loss: 0.6923 - accuracy: 0.5208\n",
      "Epoch 15/100\n",
      "126/126 [==============================] - 1s 10ms/step - loss: 0.6923 - accuracy: 0.5208\n",
      "Epoch 16/100\n",
      "126/126 [==============================] - 1s 9ms/step - loss: 0.6923 - accuracy: 0.5208\n",
      "Epoch 17/100\n",
      "126/126 [==============================] - 1s 9ms/step - loss: 0.6923 - accuracy: 0.5208\n",
      "Epoch 18/100\n",
      "126/126 [==============================] - 1s 8ms/step - loss: 0.6923 - accuracy: 0.5208\n",
      "Epoch 19/100\n",
      "126/126 [==============================] - 1s 9ms/step - loss: 0.6923 - accuracy: 0.5208\n",
      "Epoch 20/100\n",
      "126/126 [==============================] - 1s 9ms/step - loss: 0.6923 - accuracy: 0.5208\n",
      "Epoch 21/100\n",
      "126/126 [==============================] - 1s 9ms/step - loss: 0.6923 - accuracy: 0.5208\n",
      "Epoch 22/100\n",
      "126/126 [==============================] - 1s 9ms/step - loss: 0.6923 - accuracy: 0.5208\n",
      "Epoch 23/100\n",
      "126/126 [==============================] - 1s 8ms/step - loss: 0.6923 - accuracy: 0.5208\n",
      "Epoch 24/100\n",
      "126/126 [==============================] - 1s 9ms/step - loss: 0.6923 - accuracy: 0.5208\n",
      "Epoch 25/100\n",
      "126/126 [==============================] - 1s 9ms/step - loss: 0.6923 - accuracy: 0.5208\n",
      "Epoch 26/100\n",
      "126/126 [==============================] - 1s 9ms/step - loss: 0.6923 - accuracy: 0.5208\n",
      "Epoch 27/100\n",
      "126/126 [==============================] - 1s 9ms/step - loss: 0.6924 - accuracy: 0.5208\n",
      "Epoch 28/100\n",
      "126/126 [==============================] - 1s 9ms/step - loss: 0.6923 - accuracy: 0.5208\n",
      "Epoch 29/100\n",
      "126/126 [==============================] - 1s 9ms/step - loss: 0.6923 - accuracy: 0.5208\n",
      "Epoch 30/100\n",
      "126/126 [==============================] - 1s 9ms/step - loss: 0.6923 - accuracy: 0.5208\n",
      "Epoch 31/100\n",
      "126/126 [==============================] - 1s 9ms/step - loss: 0.6923 - accuracy: 0.5208\n",
      "Epoch 32/100\n",
      "126/126 [==============================] - 1s 9ms/step - loss: 0.6923 - accuracy: 0.5208\n",
      "Epoch 33/100\n",
      "126/126 [==============================] - 1s 9ms/step - loss: 0.6923 - accuracy: 0.5208\n",
      "Epoch 34/100\n",
      "126/126 [==============================] - 1s 8ms/step - loss: 0.6923 - accuracy: 0.5208\n",
      "Epoch 35/100\n",
      "126/126 [==============================] - 1s 9ms/step - loss: 0.6923 - accuracy: 0.5208\n",
      "Epoch 36/100\n",
      "126/126 [==============================] - 1s 9ms/step - loss: 0.6923 - accuracy: 0.5208\n",
      "Epoch 37/100\n",
      "126/126 [==============================] - 1s 9ms/step - loss: 0.6923 - accuracy: 0.5208\n",
      "Epoch 38/100\n",
      "126/126 [==============================] - 1s 9ms/step - loss: 0.6923 - accuracy: 0.5208\n",
      "Epoch 39/100\n",
      "126/126 [==============================] - 1s 9ms/step - loss: 0.6923 - accuracy: 0.5208\n",
      "Epoch 40/100\n",
      "126/126 [==============================] - 1s 9ms/step - loss: 0.6923 - accuracy: 0.5208\n",
      "Epoch 41/100\n",
      "126/126 [==============================] - 1s 9ms/step - loss: 0.6923 - accuracy: 0.5208\n",
      "Epoch 42/100\n",
      "126/126 [==============================] - 1s 8ms/step - loss: 0.6923 - accuracy: 0.5208\n",
      "Epoch 43/100\n",
      "126/126 [==============================] - 1s 9ms/step - loss: 0.6923 - accuracy: 0.5208\n",
      "Epoch 44/100\n",
      "126/126 [==============================] - 1s 8ms/step - loss: 0.6923 - accuracy: 0.5208\n",
      "Epoch 45/100\n",
      "126/126 [==============================] - 1s 8ms/step - loss: 0.6923 - accuracy: 0.5208\n",
      "Epoch 46/100\n",
      "126/126 [==============================] - 1s 8ms/step - loss: 0.6923 - accuracy: 0.5208\n",
      "Epoch 47/100\n",
      "126/126 [==============================] - 1s 8ms/step - loss: 0.6923 - accuracy: 0.5208\n",
      "Epoch 48/100\n",
      "126/126 [==============================] - 1s 9ms/step - loss: 0.6923 - accuracy: 0.5208\n",
      "Epoch 49/100\n",
      "126/126 [==============================] - 1s 8ms/step - loss: 0.6923 - accuracy: 0.5208\n",
      "Epoch 50/100\n",
      "126/126 [==============================] - 1s 8ms/step - loss: 0.6923 - accuracy: 0.5208\n",
      "Epoch 51/100\n",
      "126/126 [==============================] - 1s 9ms/step - loss: 0.6923 - accuracy: 0.5208\n",
      "Epoch 52/100\n",
      "126/126 [==============================] - 1s 8ms/step - loss: 0.6923 - accuracy: 0.5208\n",
      "Epoch 53/100\n",
      "126/126 [==============================] - 1s 8ms/step - loss: 0.6923 - accuracy: 0.5208\n",
      "Epoch 54/100\n",
      "126/126 [==============================] - 1s 9ms/step - loss: 0.6923 - accuracy: 0.5208\n",
      "Epoch 55/100\n",
      "126/126 [==============================] - 1s 8ms/step - loss: 0.6923 - accuracy: 0.5208\n",
      "Epoch 56/100\n",
      "126/126 [==============================] - 1s 9ms/step - loss: 0.6923 - accuracy: 0.5208\n",
      "Epoch 57/100\n",
      "126/126 [==============================] - 1s 8ms/step - loss: 0.6923 - accuracy: 0.5208\n",
      "Epoch 58/100\n",
      "126/126 [==============================] - 1s 9ms/step - loss: 0.6923 - accuracy: 0.5208\n",
      "Epoch 59/100\n",
      "126/126 [==============================] - 1s 9ms/step - loss: 0.6923 - accuracy: 0.5208\n",
      "Epoch 60/100\n",
      "126/126 [==============================] - 1s 9ms/step - loss: 0.6923 - accuracy: 0.5208\n",
      "Epoch 61/100\n",
      "126/126 [==============================] - 1s 9ms/step - loss: 0.6923 - accuracy: 0.5208\n",
      "Epoch 62/100\n",
      "126/126 [==============================] - 1s 8ms/step - loss: 0.6923 - accuracy: 0.5208\n",
      "Epoch 63/100\n",
      "126/126 [==============================] - 1s 9ms/step - loss: 0.6923 - accuracy: 0.5208\n",
      "Epoch 64/100\n",
      "126/126 [==============================] - 1s 9ms/step - loss: 0.6923 - accuracy: 0.5208\n",
      "Epoch 65/100\n",
      "126/126 [==============================] - 1s 9ms/step - loss: 0.6923 - accuracy: 0.5208\n",
      "Epoch 66/100\n",
      "126/126 [==============================] - 1s 9ms/step - loss: 0.6923 - accuracy: 0.5208\n",
      "Epoch 67/100\n",
      "126/126 [==============================] - 1s 9ms/step - loss: 0.6923 - accuracy: 0.5208\n",
      "Epoch 68/100\n",
      "126/126 [==============================] - 1s 8ms/step - loss: 0.6923 - accuracy: 0.5208\n",
      "Epoch 69/100\n",
      "126/126 [==============================] - 1s 9ms/step - loss: 0.6923 - accuracy: 0.5208\n",
      "Epoch 70/100\n",
      "126/126 [==============================] - 1s 8ms/step - loss: 0.6923 - accuracy: 0.5208\n",
      "Epoch 71/100\n",
      "126/126 [==============================] - 1s 9ms/step - loss: 0.6923 - accuracy: 0.5208\n",
      "Epoch 72/100\n",
      "126/126 [==============================] - 1s 9ms/step - loss: 0.6923 - accuracy: 0.5208\n",
      "Epoch 73/100\n",
      "126/126 [==============================] - 1s 9ms/step - loss: 0.6923 - accuracy: 0.5208\n",
      "Epoch 74/100\n",
      "126/126 [==============================] - 1s 9ms/step - loss: 0.6923 - accuracy: 0.5208\n",
      "Epoch 75/100\n",
      "126/126 [==============================] - 1s 9ms/step - loss: 0.6923 - accuracy: 0.5208\n",
      "Epoch 76/100\n",
      "126/126 [==============================] - 1s 8ms/step - loss: 0.6923 - accuracy: 0.5208\n",
      "Epoch 77/100\n",
      "126/126 [==============================] - 1s 9ms/step - loss: 0.6923 - accuracy: 0.5208\n",
      "Epoch 78/100\n",
      "126/126 [==============================] - 1s 9ms/step - loss: 0.6923 - accuracy: 0.5208\n",
      "Epoch 79/100\n",
      "126/126 [==============================] - 1s 9ms/step - loss: 0.6923 - accuracy: 0.5208\n",
      "Epoch 80/100\n",
      "126/126 [==============================] - 1s 9ms/step - loss: 0.6923 - accuracy: 0.5208\n",
      "Epoch 81/100\n",
      "126/126 [==============================] - 1s 8ms/step - loss: 0.6923 - accuracy: 0.5208\n",
      "Epoch 82/100\n",
      "126/126 [==============================] - 1s 9ms/step - loss: 0.6923 - accuracy: 0.5208\n",
      "Epoch 83/100\n",
      "126/126 [==============================] - 1s 9ms/step - loss: 0.6923 - accuracy: 0.5208\n",
      "Epoch 84/100\n",
      "126/126 [==============================] - 1s 9ms/step - loss: 0.6923 - accuracy: 0.5208\n",
      "Epoch 85/100\n",
      "126/126 [==============================] - 1s 9ms/step - loss: 0.6923 - accuracy: 0.5208\n",
      "Epoch 86/100\n",
      "126/126 [==============================] - 1s 9ms/step - loss: 0.6923 - accuracy: 0.5208\n",
      "Epoch 87/100\n",
      "126/126 [==============================] - 1s 9ms/step - loss: 0.6923 - accuracy: 0.5208\n",
      "Epoch 88/100\n",
      "126/126 [==============================] - 1s 8ms/step - loss: 0.6923 - accuracy: 0.5208\n",
      "Epoch 89/100\n",
      "126/126 [==============================] - 1s 9ms/step - loss: 0.6923 - accuracy: 0.5208\n",
      "Epoch 90/100\n",
      "126/126 [==============================] - 1s 9ms/step - loss: 0.6924 - accuracy: 0.5208\n",
      "Epoch 91/100\n",
      "126/126 [==============================] - 1s 9ms/step - loss: 0.6923 - accuracy: 0.5208\n",
      "Epoch 92/100\n",
      "126/126 [==============================] - 1s 9ms/step - loss: 0.6923 - accuracy: 0.5208\n",
      "Epoch 93/100\n",
      "126/126 [==============================] - 1s 9ms/step - loss: 0.6923 - accuracy: 0.5208\n",
      "Epoch 94/100\n",
      "126/126 [==============================] - 1s 9ms/step - loss: 0.6923 - accuracy: 0.5208\n",
      "Epoch 95/100\n",
      "126/126 [==============================] - 1s 9ms/step - loss: 0.6923 - accuracy: 0.5208\n",
      "Epoch 96/100\n",
      "126/126 [==============================] - 1s 9ms/step - loss: 0.6923 - accuracy: 0.5208\n",
      "Epoch 97/100\n",
      "126/126 [==============================] - 1s 9ms/step - loss: 0.6923 - accuracy: 0.5208\n",
      "Epoch 98/100\n",
      "126/126 [==============================] - 1s 9ms/step - loss: 0.6923 - accuracy: 0.5208\n",
      "Epoch 99/100\n",
      "126/126 [==============================] - 1s 9ms/step - loss: 0.6923 - accuracy: 0.5208\n",
      "Epoch 100/100\n",
      "126/126 [==============================] - 1s 9ms/step - loss: 0.6923 - accuracy: 0.5208\n",
      "19/27 [====================>.........] - ETA: 0s - loss: 0.6927 - accuracy: 0.5148"
     ]
    },
    {
     "name": "stderr",
     "output_type": "stream",
     "text": [
      "2022-11-12 10:54:47.603958: I tensorflow/core/grappler/optimizers/custom_graph_optimizer_registry.cc:114] Plugin optimizer for device_type GPU is enabled.\n"
     ]
    },
    {
     "name": "stdout",
     "output_type": "stream",
     "text": [
      "27/27 [==============================] - 0s 7ms/step - loss: 0.6933 - accuracy: 0.5082\n"
     ]
    },
    {
     "data": {
      "text/plain": "<IPython.core.display.HTML object>",
      "text/html": "Waiting for W&B process to finish... <strong style=\"color:green\">(success).</strong>"
     },
     "metadata": {},
     "output_type": "display_data"
    },
    {
     "data": {
      "text/plain": "VBox(children=(Label(value='0.002 MB of 0.002 MB uploaded (0.000 MB deduped)\\r'), FloatProgress(value=1.0, max…",
      "application/vnd.jupyter.widget-view+json": {
       "version_major": 2,
       "version_minor": 0,
       "model_id": "d955580c4a63464786a72faa9ff273f4"
      }
     },
     "metadata": {},
     "output_type": "display_data"
    },
    {
     "data": {
      "text/plain": "<IPython.core.display.HTML object>",
      "text/html": "<style>\n    table.wandb td:nth-child(1) { padding: 0 10px; text-align: left ; width: auto;} td:nth-child(2) {text-align: left ; width: 100%}\n    .wandb-row { display: flex; flex-direction: row; flex-wrap: wrap; justify-content: flex-start; width: 100% }\n    .wandb-col { display: flex; flex-direction: column; flex-basis: 100%; flex: 1; padding: 10px; }\n    </style>\n<div class=\"wandb-row\"><div class=\"wandb-col\"><h3>Run history:</h3><br/><table class=\"wandb\"><tr><td>accuracy</td><td>▄▁██████████████████████████████████████</td></tr><tr><td>epoch</td><td>▁▁▁▁▂▂▂▂▂▃▃▃▃▃▃▄▄▄▄▄▅▅▅▅▅▅▆▆▆▆▆▇▇▇▇▇▇███</td></tr><tr><td>loss</td><td>█▁▁▁▁▁▁▁▁▁▁▁▁▁▁▁▁▁▁▁▁▁▁▁▁▁▁▁▁▁▁▁▁▁▁▁▁▁▁▁</td></tr></table><br/></div><div class=\"wandb-col\"><h3>Run summary:</h3><br/><table class=\"wandb\"><tr><td>accuracy</td><td>0.52085</td></tr><tr><td>epoch</td><td>99</td></tr><tr><td>loss</td><td>0.69231</td></tr></table><br/></div></div>"
     },
     "metadata": {},
     "output_type": "display_data"
    },
    {
     "data": {
      "text/plain": "<IPython.core.display.HTML object>",
      "text/html": "Synced <strong style=\"color:#cdcd00\">likely-resonance-2</strong>: <a href=\"https://wandb.ai/gharris96/Trading-system/runs/jnzf2lkz\" target=\"_blank\">https://wandb.ai/gharris96/Trading-system/runs/jnzf2lkz</a><br/>Synced 6 W&B file(s), 1 media file(s), 0 artifact file(s) and 0 other file(s)"
     },
     "metadata": {},
     "output_type": "display_data"
    },
    {
     "data": {
      "text/plain": "<IPython.core.display.HTML object>",
      "text/html": "Find logs at: <code>./wandb/run-20221112_105252-jnzf2lkz/logs</code>"
     },
     "metadata": {},
     "output_type": "display_data"
    }
   ],
   "source": [
    "%%wandb\n",
    "\n",
    "# 1. Create the model\n",
    "model_1 = tf.keras.models.Sequential(\n",
    "    [\n",
    "        tf.keras.layers.Conv1D(8, kernel_size=(1), activation='relu'),\n",
    "        tf.keras.layers.Conv1D(8, kernel_size=(1), activation='relu'),\n",
    "        tf.keras.layers.MaxPool1D(pool_size=(1)),\n",
    "        tf.keras.layers.Conv1D(8, kernel_size=(1), activation='relu'),\n",
    "        tf.keras.layers.MaxPool1D(pool_size=(1)),\n",
    "        tf.keras.layers.Flatten(),\n",
    "        tf.keras.layers.Dropout(0.1),\n",
    "        tf.keras.layers.Dense(1, activation='sigmoid')\n",
    "    ]\n",
    ")\n",
    "\n",
    "# 2. Compile the model\n",
    "model_1.compile(\n",
    "    loss=tf.keras.losses.BinaryCrossentropy(),\n",
    "    optimizer=tf.keras.optimizers.Adam(),\n",
    "    metrics=['accuracy']\n",
    ")\n",
    "\n",
    "# 3. Fit the model\n",
    "history = model_1.fit(\n",
    "    ibm_train_X, tf.cast(ibm_train_y, dtype=tf.int32),\n",
    "    epochs=100,\n",
    "    callbacks=[wandb.keras.WandbCallback()]\n",
    ")\n",
    "\n",
    "# 4. Evaluate the model with the validation set\n",
    "model_1.evaluate(ibm_val_X, ibm_val_y)\n",
    "\n",
    "wandb.finish()"
   ],
   "metadata": {
    "collapsed": false
   }
  },
  {
   "cell_type": "code",
   "execution_count": 26,
   "outputs": [
    {
     "name": "stderr",
     "output_type": "stream",
     "text": [
      "0it [00:00, ?it/s]2022-11-12 10:54:54.390710: I tensorflow/core/grappler/optimizers/custom_graph_optimizer_registry.cc:114] Plugin optimizer for device_type GPU is enabled.\n",
      "853it [00:21, 39.60it/s]\n"
     ]
    },
    {
     "data": {
      "text/plain": "<Figure size 1300x700 with 2 Axes>",
      "image/png": "[encoded data removed]"
     },
     "metadata": {},
     "output_type": "display_data"
    }
   ],
   "source": [
    "# Define assets\n",
    "assets = tst.Assets(money=1000)\n",
    "\n",
    "# Run testing run\n",
    "predictions = tst.testing_run(assets=assets, model=model_1, test_data=ibm_test_X)\n",
    "\n",
    "# Plot testing results\n",
    "tst.plot_testing_run(assets)"
   ],
   "metadata": {
    "collapsed": false
   }
  },
  {
   "cell_type": "code",
   "execution_count": 27,
   "outputs": [
    {
     "data": {
      "text/plain": "([1000, 0, 1107.1994191687193], [0, 9.112002301895993, 0])"
     },
     "execution_count": 27,
     "metadata": {},
     "output_type": "execute_result"
    }
   ],
   "source": [
    "assets.get_history()"
   ],
   "metadata": {
    "collapsed": false
   }
  },
  {
   "cell_type": "code",
   "execution_count": 28,
   "outputs": [
    {
     "data": {
      "text/plain": "([1.0, 1.0, 1.0, 1.0, 1.0, 1.0, 1.0, 1.0, 1.0, 1.0],\n [1.0, 1.0, 1.0, 1.0, 1.0, 1.0, 1.0, 1.0, 1.0, 1.0])"
     },
     "execution_count": 28,
     "metadata": {},
     "output_type": "execute_result"
    }
   ],
   "source": [
    "predictions[:10], predictions[-10:]"
   ],
   "metadata": {
    "collapsed": false
   }
  },
  {
   "cell_type": "code",
   "execution_count": 29,
   "outputs": [
    {
     "data": {
      "text/plain": "(<tf.Tensor: shape=(), dtype=float64, numpy=0.5208489388264669>,\n <tf.Tensor: shape=(), dtype=float64, numpy=0.5081585081585082>)"
     },
     "execution_count": 29,
     "metadata": {},
     "output_type": "execute_result"
    }
   ],
   "source": [
    "sum(ibm_train_y)/ibm_train_y.shape[0], sum(ibm_val_y)/ibm_val_y.shape[0]"
   ],
   "metadata": {
    "collapsed": false
   }
  },
  {
   "cell_type": "markdown",
   "source": [
    "### Notes\n",
    "`Model_1` is not great. It has poor accuracy results over both the train and validation sets. Looking at this further the models predictions are only the positive class.\n",
    "\n",
    "There are two directions this could now take. Change of neural architecture and change of data treatment.\n",
    "\n",
    "`Model_2` will transform the data inside along the first axis. The plan is to normalize the following columns so that they are between 0 and 1.\n",
    "* Open\n",
    "* High\n",
    "* Low\n",
    "* Close\n",
    "* Volume\n",
    "\n",
    "The first four will be normalized together and Volume will be normalized by itself to prevent the distribution of values being bimodal."
   ],
   "metadata": {
    "collapsed": false
   }
  },
  {
   "cell_type": "code",
   "execution_count": 31,
   "outputs": [
    {
     "data": {
      "text/plain": "TensorShape([858, 5, 5])"
     },
     "execution_count": 31,
     "metadata": {},
     "output_type": "execute_result"
    }
   ],
   "source": [],
   "metadata": {
    "collapsed": false
   }
  },
  {
   "cell_type": "code",
   "execution_count": 7,
   "outputs": [],
   "source": [],
   "metadata": {
    "collapsed": false
   }
  }
 ],
 "metadata": {
  "kernelspec": {
   "display_name": "Python 3",
   "language": "python",
   "name": "python3"
  },
  "language_info": {
   "codemirror_mode": {
    "name": "ipython",
    "version": 2
   },
   "file_extension": ".py",
   "mimetype": "text/x-python",
   "name": "python",
   "nbconvert_exporter": "python",
   "pygments_lexer": "ipython2",
   "version": "2.7.6"
  }
 },
 "nbformat": 4,
 "nbformat_minor": 0
}

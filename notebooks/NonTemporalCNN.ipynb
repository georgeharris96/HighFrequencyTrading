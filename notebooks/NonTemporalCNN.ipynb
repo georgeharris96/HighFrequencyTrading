{
 "cells": [
  {
   "cell_type": "markdown",
   "source": [
    "# Non Temporal CNN approach"
   ],
   "metadata": {
    "collapsed": false
   }
  },
  {
   "cell_type": "code",
   "execution_count": 1,
   "outputs": [],
   "source": [
    "# Import required libraries\n",
    "import pandas as pd\n",
    "import src.dataPreparation as prep\n",
    "import numpy as np\n",
    "import tensorflow as tf\n",
    "import tests.timeseriestesting as tst"
   ],
   "metadata": {
    "collapsed": false
   }
  },
  {
   "cell_type": "code",
   "execution_count": 2,
   "metadata": {
    "collapsed": true
   },
   "outputs": [
    {
     "name": "stdout",
     "output_type": "stream",
     "text": [
      "Metal device set to: Apple M1 Pro\n"
     ]
    },
    {
     "name": "stderr",
     "output_type": "stream",
     "text": [
      "2022-10-11 10:42:17.043273: I tensorflow/core/common_runtime/pluggable_device/pluggable_device_factory.cc:306] Could not identify NUMA node of platform GPU ID 0, defaulting to 0. Your kernel may not have been built with NUMA support.\n",
      "2022-10-11 10:42:17.043401: I tensorflow/core/common_runtime/pluggable_device/pluggable_device_factory.cc:272] Created TensorFlow device (/job:localhost/replica:0/task:0/device:GPU:0 with 0 MB memory) -> physical PluggableDevice (device: 0, name: METAL, pci bus id: <undefined>)\n"
     ]
    }
   ],
   "source": [
    "# Import data\n",
    "ibm = pd.read_csv('../data/ibm_historical.csv')\n",
    "msft = pd.read_csv('../data/msft_historical.csv')\n",
    "nvda = pd.read_csv('../data/nvda_historical.csv')\n",
    "\n",
    "# Drop Date column\n",
    "ibm.drop(columns=['Date'], inplace=True)\n",
    "msft.drop(columns=['Date'], inplace=True)\n",
    "nvda.drop(columns=['Date'], inplace=True)\n",
    "\n",
    "# Create target variables\n",
    "ibm = prep.calculateTarget(ibm)\n",
    "msft = prep.calculateTarget(msft)\n",
    "nvda = prep.calculateTarget(nvda)\n",
    "\n",
    "# Create train and test sets\n",
    "ibm_train, ibm_test = ibm[:-858], ibm[-858:]\n",
    "msft_train, msft_test = msft[:-858], msft[-858:]\n",
    "nvda_train, nvda_test = nvda[:-858], nvda[-858:]\n"
   ]
  },
  {
   "cell_type": "code",
   "execution_count": null,
   "outputs": [],
   "source": [
    "# Transform for modelling\n",
    "window = 5\n",
    "\n",
    "ibm_train_X, ibm_train_y = prep.nonTemporalTransform(\n",
    "    ibm_train.drop(columns=['target']),\n",
    "    ibm_train['target'],\n",
    "    window_size=window\n",
    ")\n",
    "\n",
    "msft_train_X, msft_train_y = prep.nonTemporalTransform(\n",
    "    msft_train.drop(columns=['target']),\n",
    "    msft_train['target'],\n",
    "    window_size=window\n",
    ")\n",
    "\n",
    "nvda_train_X, nvda_train_y = prep.nonTemporalTransform(\n",
    "    nvda_train.drop(columns=['target']),\n",
    "    nvda_train['target'],\n",
    "    window_size=window\n",
    ")\n",
    "\n",
    "# Shuffle training tensors\n",
    "ibm_train_X, ibm_train_y = prep.shuffle_tensors(ibm_train_X, ibm_train_y)\n",
    "msft_train_X, msft_train_y = prep.shuffle_tensors(msft_train_X, msft_train_y)\n",
    "nvda_train_X, nvda_train_y = prep.shuffle_tensors(nvda_train_X, nvda_train_y)\n"
   ],
   "metadata": {
    "collapsed": false
   }
  },
  {
   "cell_type": "code",
   "execution_count": null,
   "outputs": [],
   "source": [
    "# Create validation tests\n",
    "ibm_train_X, ibm_val_X, ibm_train_y, ibm_val_y = ibm_train_X[:-858], ibm_train_X[-858:], ibm_train_y[:-858], ibm_train_y[-858:]\n",
    "msft_train_X, msft_val_X, msft_train_y, msft_val_y = msft_train_X[:-858], msft_train_X[-858:], msft_train_y[:-858], msft_train_y[-858:]\n",
    "nvda_train_X, nvda_val_X, nvda_train_y, nvda_val_y = nvda_train_X[:-858], nvda_train_X[-858:], nvda_train_y[:-858], nvda_train_y[-858:]"
   ],
   "metadata": {
    "collapsed": false
   }
  },
  {
   "cell_type": "code",
   "execution_count": 3,
   "outputs": [
    {
     "name": "stdout",
     "output_type": "stream",
     "text": [
      "Epoch 1/100\n"
     ]
    },
    {
     "name": "stderr",
     "output_type": "stream",
     "text": [
      "2022-10-11 10:42:21.429358: W tensorflow/core/platform/profile_utils/cpu_utils.cc:128] Failed to get CPU frequency: 0 Hz\n"
     ]
    },
    {
     "name": "stdout",
     "output_type": "stream",
     "text": [
      "  1/126 [..............................] - ETA: 55s - loss: 213803.2656 - accuracy: 0.5625"
     ]
    },
    {
     "name": "stderr",
     "output_type": "stream",
     "text": [
      "2022-10-11 10:42:21.689080: I tensorflow/core/grappler/optimizers/custom_graph_optimizer_registry.cc:114] Plugin optimizer for device_type GPU is enabled.\n"
     ]
    },
    {
     "name": "stdout",
     "output_type": "stream",
     "text": [
      "126/126 [==============================] - 1s 8ms/step - loss: 101247.1641 - accuracy: 0.4919\n",
      "Epoch 2/100\n",
      "126/126 [==============================] - 1s 8ms/step - loss: 41891.9961 - accuracy: 0.4946\n",
      "Epoch 3/100\n",
      "126/126 [==============================] - 1s 8ms/step - loss: 11572.9541 - accuracy: 0.5024\n",
      "Epoch 4/100\n",
      "126/126 [==============================] - 1s 8ms/step - loss: 18.4251 - accuracy: 0.5216\n",
      "Epoch 5/100\n",
      "126/126 [==============================] - 1s 8ms/step - loss: 0.6924 - accuracy: 0.5246\n",
      "Epoch 6/100\n",
      "126/126 [==============================] - 1s 8ms/step - loss: 0.6922 - accuracy: 0.5246\n",
      "Epoch 7/100\n",
      "126/126 [==============================] - 1s 8ms/step - loss: 0.6921 - accuracy: 0.5246\n",
      "Epoch 8/100\n",
      "126/126 [==============================] - 1s 8ms/step - loss: 0.6920 - accuracy: 0.5246\n",
      "Epoch 9/100\n",
      "126/126 [==============================] - 1s 8ms/step - loss: 0.6920 - accuracy: 0.5246\n",
      "Epoch 10/100\n",
      "126/126 [==============================] - 1s 8ms/step - loss: 0.6920 - accuracy: 0.5246\n",
      "Epoch 11/100\n",
      "126/126 [==============================] - 1s 8ms/step - loss: 0.6920 - accuracy: 0.5246\n",
      "Epoch 12/100\n",
      "126/126 [==============================] - 1s 8ms/step - loss: 0.6920 - accuracy: 0.5246\n",
      "Epoch 13/100\n",
      "126/126 [==============================] - 1s 8ms/step - loss: 0.6920 - accuracy: 0.5246\n",
      "Epoch 14/100\n",
      "126/126 [==============================] - 1s 8ms/step - loss: 0.6920 - accuracy: 0.5246\n",
      "Epoch 15/100\n",
      "126/126 [==============================] - 1s 8ms/step - loss: 0.6920 - accuracy: 0.5246\n",
      "Epoch 16/100\n",
      "126/126 [==============================] - 1s 8ms/step - loss: 0.6920 - accuracy: 0.5246\n",
      "Epoch 17/100\n",
      "126/126 [==============================] - 1s 8ms/step - loss: 0.6920 - accuracy: 0.5246\n",
      "Epoch 18/100\n",
      "126/126 [==============================] - 1s 8ms/step - loss: 0.6920 - accuracy: 0.5246\n",
      "Epoch 19/100\n",
      "126/126 [==============================] - 1s 8ms/step - loss: 0.6920 - accuracy: 0.5246\n",
      "Epoch 20/100\n",
      "126/126 [==============================] - 1s 8ms/step - loss: 0.6920 - accuracy: 0.5246\n",
      "Epoch 21/100\n",
      "126/126 [==============================] - 1s 8ms/step - loss: 0.6920 - accuracy: 0.5246\n",
      "Epoch 22/100\n",
      "126/126 [==============================] - 1s 8ms/step - loss: 0.6920 - accuracy: 0.5246\n",
      "Epoch 23/100\n",
      "126/126 [==============================] - 1s 8ms/step - loss: 0.6920 - accuracy: 0.5246\n",
      "Epoch 24/100\n",
      "126/126 [==============================] - 1s 8ms/step - loss: 0.6920 - accuracy: 0.5246\n",
      "Epoch 25/100\n",
      "126/126 [==============================] - 1s 8ms/step - loss: 0.6920 - accuracy: 0.5246\n",
      "Epoch 26/100\n",
      "126/126 [==============================] - 1s 8ms/step - loss: 0.6920 - accuracy: 0.5246\n",
      "Epoch 27/100\n",
      "126/126 [==============================] - 1s 8ms/step - loss: 0.6920 - accuracy: 0.5246\n",
      "Epoch 28/100\n",
      "126/126 [==============================] - 1s 8ms/step - loss: 0.6920 - accuracy: 0.5246\n",
      "Epoch 29/100\n",
      "126/126 [==============================] - 1s 8ms/step - loss: 0.6920 - accuracy: 0.5246\n",
      "Epoch 30/100\n",
      "126/126 [==============================] - 1s 8ms/step - loss: 0.6920 - accuracy: 0.5246\n",
      "Epoch 31/100\n",
      "126/126 [==============================] - 1s 8ms/step - loss: 0.6920 - accuracy: 0.5246\n",
      "Epoch 32/100\n",
      "126/126 [==============================] - 1s 8ms/step - loss: 0.6920 - accuracy: 0.5246\n",
      "Epoch 33/100\n",
      "126/126 [==============================] - 1s 8ms/step - loss: 0.6920 - accuracy: 0.5246\n",
      "Epoch 34/100\n",
      "126/126 [==============================] - 1s 8ms/step - loss: 0.6919 - accuracy: 0.5246\n",
      "Epoch 35/100\n",
      "126/126 [==============================] - 1s 8ms/step - loss: 0.6920 - accuracy: 0.5246\n",
      "Epoch 36/100\n",
      "126/126 [==============================] - 1s 8ms/step - loss: 0.6920 - accuracy: 0.5246\n",
      "Epoch 37/100\n",
      "126/126 [==============================] - 1s 8ms/step - loss: 0.6920 - accuracy: 0.5246\n",
      "Epoch 38/100\n",
      "126/126 [==============================] - 1s 8ms/step - loss: 0.6920 - accuracy: 0.5246\n",
      "Epoch 39/100\n",
      "126/126 [==============================] - 1s 8ms/step - loss: 0.6920 - accuracy: 0.5246\n",
      "Epoch 40/100\n",
      "126/126 [==============================] - 1s 8ms/step - loss: 0.6920 - accuracy: 0.5246\n",
      "Epoch 41/100\n",
      "126/126 [==============================] - 1s 8ms/step - loss: 0.6920 - accuracy: 0.5246\n",
      "Epoch 42/100\n",
      "126/126 [==============================] - 1s 8ms/step - loss: 0.6920 - accuracy: 0.5246\n",
      "Epoch 43/100\n",
      "126/126 [==============================] - 1s 8ms/step - loss: 0.6920 - accuracy: 0.5246\n",
      "Epoch 44/100\n",
      "126/126 [==============================] - 1s 8ms/step - loss: 0.6920 - accuracy: 0.5246\n",
      "Epoch 45/100\n",
      "126/126 [==============================] - 1s 8ms/step - loss: 0.6920 - accuracy: 0.5246\n",
      "Epoch 46/100\n",
      "126/126 [==============================] - 1s 8ms/step - loss: 0.6920 - accuracy: 0.5246\n",
      "Epoch 47/100\n",
      "126/126 [==============================] - 1s 8ms/step - loss: 0.6920 - accuracy: 0.5246\n",
      "Epoch 48/100\n",
      "126/126 [==============================] - 1s 8ms/step - loss: 0.6920 - accuracy: 0.5246\n",
      "Epoch 49/100\n",
      "126/126 [==============================] - 1s 8ms/step - loss: 0.6920 - accuracy: 0.5246\n",
      "Epoch 50/100\n",
      "126/126 [==============================] - 1s 8ms/step - loss: 0.6920 - accuracy: 0.5246\n",
      "Epoch 51/100\n",
      "126/126 [==============================] - 1s 8ms/step - loss: 0.6920 - accuracy: 0.5246\n",
      "Epoch 52/100\n",
      "126/126 [==============================] - 1s 8ms/step - loss: 0.6920 - accuracy: 0.5246\n",
      "Epoch 53/100\n",
      "126/126 [==============================] - 1s 8ms/step - loss: 0.6920 - accuracy: 0.5246\n",
      "Epoch 54/100\n",
      "126/126 [==============================] - 1s 8ms/step - loss: 0.6920 - accuracy: 0.5246\n",
      "Epoch 55/100\n",
      "126/126 [==============================] - 1s 8ms/step - loss: 0.6920 - accuracy: 0.5246\n",
      "Epoch 56/100\n",
      "126/126 [==============================] - 1s 8ms/step - loss: 0.6920 - accuracy: 0.5246\n",
      "Epoch 57/100\n",
      "126/126 [==============================] - 1s 8ms/step - loss: 0.6920 - accuracy: 0.5246\n",
      "Epoch 58/100\n",
      "126/126 [==============================] - 1s 8ms/step - loss: 0.6920 - accuracy: 0.5246\n",
      "Epoch 59/100\n",
      "126/126 [==============================] - 1s 8ms/step - loss: 0.6920 - accuracy: 0.5246\n",
      "Epoch 60/100\n",
      "126/126 [==============================] - 1s 8ms/step - loss: 0.6920 - accuracy: 0.5246\n",
      "Epoch 61/100\n",
      "126/126 [==============================] - 1s 8ms/step - loss: 0.6920 - accuracy: 0.5246\n",
      "Epoch 62/100\n",
      "126/126 [==============================] - 1s 8ms/step - loss: 0.6920 - accuracy: 0.5246\n",
      "Epoch 63/100\n",
      "126/126 [==============================] - 1s 8ms/step - loss: 0.6920 - accuracy: 0.5246\n",
      "Epoch 64/100\n",
      "126/126 [==============================] - 1s 8ms/step - loss: 0.6920 - accuracy: 0.5246\n",
      "Epoch 65/100\n",
      "126/126 [==============================] - 1s 8ms/step - loss: 0.6920 - accuracy: 0.5246\n",
      "Epoch 66/100\n",
      "126/126 [==============================] - 1s 8ms/step - loss: 0.6920 - accuracy: 0.5246\n",
      "Epoch 67/100\n",
      "126/126 [==============================] - 1s 8ms/step - loss: 0.6920 - accuracy: 0.5246\n",
      "Epoch 68/100\n",
      "126/126 [==============================] - 1s 8ms/step - loss: 0.6920 - accuracy: 0.5246\n",
      "Epoch 69/100\n",
      "126/126 [==============================] - 1s 8ms/step - loss: 0.6920 - accuracy: 0.5246\n",
      "Epoch 70/100\n",
      "126/126 [==============================] - 1s 8ms/step - loss: 0.6920 - accuracy: 0.5246\n",
      "Epoch 71/100\n",
      "126/126 [==============================] - 1s 8ms/step - loss: 0.6920 - accuracy: 0.5246\n",
      "Epoch 72/100\n",
      "126/126 [==============================] - 1s 8ms/step - loss: 0.6920 - accuracy: 0.5246\n",
      "Epoch 73/100\n",
      "126/126 [==============================] - 1s 8ms/step - loss: 0.6920 - accuracy: 0.5246\n",
      "Epoch 74/100\n",
      "126/126 [==============================] - 1s 8ms/step - loss: 0.6920 - accuracy: 0.5246\n",
      "Epoch 75/100\n",
      "126/126 [==============================] - 1s 8ms/step - loss: 0.6920 - accuracy: 0.5246\n",
      "Epoch 76/100\n",
      "126/126 [==============================] - 1s 8ms/step - loss: 0.6920 - accuracy: 0.5246\n",
      "Epoch 77/100\n",
      "126/126 [==============================] - 1s 8ms/step - loss: 0.6920 - accuracy: 0.5246\n",
      "Epoch 78/100\n",
      "126/126 [==============================] - 1s 8ms/step - loss: 0.6920 - accuracy: 0.5246\n",
      "Epoch 79/100\n",
      "126/126 [==============================] - 1s 8ms/step - loss: 0.6920 - accuracy: 0.5246\n",
      "Epoch 80/100\n",
      "126/126 [==============================] - 1s 8ms/step - loss: 0.6920 - accuracy: 0.5246\n",
      "Epoch 81/100\n",
      "126/126 [==============================] - 1s 8ms/step - loss: 0.6920 - accuracy: 0.5246\n",
      "Epoch 82/100\n",
      "126/126 [==============================] - 1s 8ms/step - loss: 0.6920 - accuracy: 0.5246\n",
      "Epoch 83/100\n",
      "126/126 [==============================] - 1s 8ms/step - loss: 0.6920 - accuracy: 0.5246\n",
      "Epoch 84/100\n",
      "126/126 [==============================] - 1s 8ms/step - loss: 0.6920 - accuracy: 0.5246\n",
      "Epoch 85/100\n",
      "126/126 [==============================] - 1s 8ms/step - loss: 0.6920 - accuracy: 0.5246\n",
      "Epoch 86/100\n",
      "126/126 [==============================] - 1s 8ms/step - loss: 0.6920 - accuracy: 0.5246\n",
      "Epoch 87/100\n",
      "126/126 [==============================] - 1s 8ms/step - loss: 0.6920 - accuracy: 0.5246\n",
      "Epoch 88/100\n",
      "126/126 [==============================] - 1s 8ms/step - loss: 0.6920 - accuracy: 0.5246\n",
      "Epoch 89/100\n",
      "126/126 [==============================] - 1s 8ms/step - loss: 0.6920 - accuracy: 0.5246\n",
      "Epoch 90/100\n",
      "126/126 [==============================] - 1s 8ms/step - loss: 0.6920 - accuracy: 0.5246\n",
      "Epoch 91/100\n",
      "126/126 [==============================] - 1s 8ms/step - loss: 0.6920 - accuracy: 0.5246\n",
      "Epoch 92/100\n",
      "126/126 [==============================] - 1s 8ms/step - loss: 0.6920 - accuracy: 0.5246\n",
      "Epoch 93/100\n",
      "126/126 [==============================] - 1s 8ms/step - loss: 0.6920 - accuracy: 0.5246\n",
      "Epoch 94/100\n",
      "126/126 [==============================] - 1s 8ms/step - loss: 0.6920 - accuracy: 0.5246\n",
      "Epoch 95/100\n",
      "126/126 [==============================] - 1s 8ms/step - loss: 0.6920 - accuracy: 0.5246\n",
      "Epoch 96/100\n",
      "126/126 [==============================] - 1s 8ms/step - loss: 0.6920 - accuracy: 0.5246\n",
      "Epoch 97/100\n",
      "126/126 [==============================] - 1s 8ms/step - loss: 0.6920 - accuracy: 0.5246\n",
      "Epoch 98/100\n",
      "126/126 [==============================] - 1s 8ms/step - loss: 0.6920 - accuracy: 0.5246\n",
      "Epoch 99/100\n",
      "126/126 [==============================] - 1s 8ms/step - loss: 0.6920 - accuracy: 0.5246\n",
      "Epoch 100/100\n",
      "126/126 [==============================] - 1s 8ms/step - loss: 0.6920 - accuracy: 0.5246\n",
      "22/27 [=======================>......] - ETA: 0s - loss: 0.6958 - accuracy: 0.4872"
     ]
    },
    {
     "name": "stderr",
     "output_type": "stream",
     "text": [
      "2022-10-11 10:44:00.502008: I tensorflow/core/grappler/optimizers/custom_graph_optimizer_registry.cc:114] Plugin optimizer for device_type GPU is enabled.\n"
     ]
    },
    {
     "name": "stdout",
     "output_type": "stream",
     "text": [
      "27/27 [==============================] - 0s 6ms/step - loss: 0.6954 - accuracy: 0.4907\n"
     ]
    },
    {
     "data": {
      "text/plain": "[0.6954105496406555, 0.49067601561546326]"
     },
     "execution_count": 3,
     "metadata": {},
     "output_type": "execute_result"
    }
   ],
   "source": [
    "# 1. Create the model\n",
    "model_1 = tf.keras.models.Sequential(\n",
    "    [\n",
    "        tf.keras.layers.Conv1D(8, kernel_size=(1), activation='relu'),\n",
    "        tf.keras.layers.Conv1D(8, kernel_size=(1), activation='relu'),\n",
    "        tf.keras.layers.MaxPool1D(pool_size=(1)),\n",
    "        tf.keras.layers.Conv1D(8, kernel_size=(1), activation='relu'),\n",
    "        tf.keras.layers.MaxPool1D(pool_size=(1)),\n",
    "        tf.keras.layers.Flatten(),\n",
    "        tf.keras.layers.Dropout(0.1),\n",
    "        tf.keras.layers.Dense(1, activation='sigmoid')\n",
    "    ]\n",
    ")\n",
    "\n",
    "# 2. Compile the model\n",
    "model_1.compile(\n",
    "    loss=tf.keras.losses.BinaryCrossentropy(),\n",
    "    optimizer=tf.keras.optimizers.Adam(),\n",
    "    metrics=['accuracy']\n",
    ")\n",
    "\n",
    "# 3. Fit the model\n",
    "history = model_1.fit(\n",
    "    ibm_train_X, tf.cast(ibm_train_y, dtype=tf.int32),\n",
    "    epochs=100\n",
    ")\n",
    "\n",
    "# 4. Evaluate the model with the validation set\n",
    "model_1.evaluate(ibm_val_X, ibm_val_y)"
   ],
   "metadata": {
    "collapsed": false
   }
  },
  {
   "cell_type": "code",
   "execution_count": 4,
   "outputs": [
    {
     "name": "stderr",
     "output_type": "stream",
     "text": [
      "0it [00:00, ?it/s]2022-10-11 10:44:00.898633: I tensorflow/core/grappler/optimizers/custom_graph_optimizer_registry.cc:114] Plugin optimizer for device_type GPU is enabled.\n",
      "4005it [01:45, 37.97it/s]\n"
     ]
    },
    {
     "data": {
      "text/plain": "<Figure size 1300x700 with 2 Axes>",
      "image/png": "[encoded data removed]"
     },
     "metadata": {},
     "output_type": "display_data"
    }
   ],
   "source": [
    "# Define assets\n",
    "assets = tst.Assets(money=1000)\n",
    "\n",
    "# Run testing run\n",
    "predictions = tst.testing_run(assets=assets, model=model_1, test_data=ibm_train_X) # TODO Use correct test data\n",
    "\n",
    "# Plot testing results\n",
    "tst.plot_testing_run(assets)"
   ],
   "metadata": {
    "collapsed": false
   }
  },
  {
   "cell_type": "code",
   "execution_count": 5,
   "outputs": [
    {
     "data": {
      "text/plain": "([1000, 0, 1487.36446212425], [0, 15.262687584028129, 0])"
     },
     "execution_count": 5,
     "metadata": {},
     "output_type": "execute_result"
    }
   ],
   "source": [
    "assets.get_history()"
   ],
   "metadata": {
    "collapsed": false
   }
  },
  {
   "cell_type": "code",
   "execution_count": 6,
   "outputs": [
    {
     "data": {
      "text/plain": "([1.0, 1.0, 1.0, 1.0, 1.0, 1.0, 1.0, 1.0, 1.0, 1.0],\n [1.0, 1.0, 1.0, 1.0, 1.0, 1.0, 1.0, 1.0, 1.0, 1.0])"
     },
     "execution_count": 6,
     "metadata": {},
     "output_type": "execute_result"
    }
   ],
   "source": [
    "predictions[:10], predictions[-10:]"
   ],
   "metadata": {
    "collapsed": false
   }
  },
  {
   "cell_type": "code",
   "execution_count": 7,
   "outputs": [
    {
     "data": {
      "text/plain": "(<tf.Tensor: shape=(), dtype=float64, numpy=0.5245942571785268>,\n <tf.Tensor: shape=(), dtype=float64, numpy=0.49067599067599066>)"
     },
     "execution_count": 7,
     "metadata": {},
     "output_type": "execute_result"
    }
   ],
   "source": [
    "sum(ibm_train_y)/ibm_train_y.shape[0], sum(ibm_val_y)/ibm_val_y.shape[0]"
   ],
   "metadata": {
    "collapsed": false
   }
  },
  {
   "cell_type": "markdown",
   "source": [
    "### Notes\n",
    "`Model_1` is not great. It has poor accuracy results over both the train and validation sets. Looking at this further the models predictions are only the positive class.\n",
    "\n",
    "There are two directions this could now take. Change of neural architecture and change of data treatment.\n",
    "\n",
    "`Model_2` will transform the data inside along the first axis. The plan is to normalize the following columns so that they are between 0 and 1.\n",
    "* Open\n",
    "* High\n",
    "* Low\n",
    "* Close\n",
    "* Volume\n",
    "\n",
    "The first four will be normalized together and Volume will be normalized by itself to prevent the distribution of values being bimodal."
   ],
   "metadata": {
    "collapsed": false
   }
  },
  {
   "cell_type": "code",
   "execution_count": 7,
   "outputs": [],
   "source": [],
   "metadata": {
    "collapsed": false
   }
  },
  {
   "cell_type": "code",
   "execution_count": 7,
   "outputs": [],
   "source": [],
   "metadata": {
    "collapsed": false
   }
  }
 ],
 "metadata": {
  "kernelspec": {
   "display_name": "Python 3",
   "language": "python",
   "name": "python3"
  },
  "language_info": {
   "codemirror_mode": {
    "name": "ipython",
    "version": 2
   },
   "file_extension": ".py",
   "mimetype": "text/x-python",
   "name": "python",
   "nbconvert_exporter": "python",
   "pygments_lexer": "ipython2",
   "version": "2.7.6"
  }
 },
 "nbformat": 4,
 "nbformat_minor": 0
}
